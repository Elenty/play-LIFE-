{
 "cells": [
  {
   "cell_type": "code",
   "execution_count": null,
   "metadata": {},
   "outputs": [],
   "source": [
    "!pip install pymorphy2\n",
    "!pip install -U pymorphy2-dicts-ru\n",
    "\n",
    "s1=open(file.txt)\n",
    "\n",
    "# функция, очищает текст от знаков препинания\n",
    "def clean(text):\n",
    "    if not isinstance(text, str):\n",
    "        raise TypeError('text должен быть str')\n",
    "    return text.translate(str.maketrans({x: None for x in [',', '.', ':', ';', '!', '?','«','»','–','[',']','(',')','…']}))\n",
    "\n",
    "# преобразует тип list в строковый\n",
    "s2 = ''.join(s1)\n",
    "# type(s2)\n",
    "\n",
    "s3=clean(s2)\n",
    "\n",
    "# разделяет на слова\n",
    "import string\n",
    "s4=[word.strip(string.punctuation) for word in s3.split()]\n",
    "\n",
    "# импорт библиотеки и создаем слова в норм форме\n",
    "import pymorphy2\n",
    "morph = pymorphy2.MorphAnalyzer()\n",
    "s5=[]\n",
    "for i in range(len(s4)):\n",
    "    s5.append(morph.parse(s4[i])[0].normal_form)\n",
    "print(s5) "
   ]
  },
  {
   "cell_type": "code",
   "execution_count": null,
   "metadata": {},
   "outputs": [],
   "source": []
  },
  {
   "cell_type": "code",
   "execution_count": null,
   "metadata": {},
   "outputs": [],
   "source": []
  },
  {
   "cell_type": "code",
   "execution_count": null,
   "metadata": {},
   "outputs": [],
   "source": []
  }
 ],
 "metadata": {
  "kernelspec": {
   "display_name": "Python 3",
   "language": "python",
   "name": "python3"
  },
  "language_info": {
   "codemirror_mode": {
    "name": "ipython",
    "version": 3
   },
   "file_extension": ".py",
   "mimetype": "text/x-python",
   "name": "python",
   "nbconvert_exporter": "python",
   "pygments_lexer": "ipython3",
   "version": "3.6.4"
  }
 },
 "nbformat": 4,
 "nbformat_minor": 2
}
